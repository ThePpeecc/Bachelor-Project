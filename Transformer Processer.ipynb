{
 "cells": [
  {
   "cell_type": "code",
   "execution_count": null,
   "metadata": {},
   "outputs": [],
   "source": [
    "# Transformer networks\n",
    "from transformers import BertTokenizer\n",
    "\n",
    "# Pytorch\n",
    "import torch\n",
    "\n",
    "# Data Loader and Processor\n",
    "from loader import loadDataParticipants\n",
    "from DataProcessor import DataInstance, DataProcesser\n",
    "\n",
    "# Import numpy\n",
    "import numpy as np\n",
    "\n",
    "# Utils\n",
    "import tools\n",
    "import pickle"
   ]
  },
  {
   "cell_type": "code",
   "execution_count": null,
   "metadata": {},
   "outputs": [],
   "source": [
    "data = loadDataParticipants()\n",
    "\n",
    "# Hyper parameters\n",
    "NumberOfLabels = len(data)\n",
    "seed = 0\n",
    "\n",
    "ModelDirectory = 'TurkuNLP/wikibert-base-da-cased'\n",
    "# Belov there are alternative pre-trained BERT models\n",
    "#ModelDirectory = './danish_bert_uncased_v2'\n",
    "#ModelDirectory = './multi_cased_L-12_H-768_A-12'"
   ]
  },
  {
   "cell_type": "code",
   "execution_count": null,
   "metadata": {},
   "outputs": [],
   "source": [
    "# Setup of the tokenizer\n",
    "tokenizer = BertTokenizer.from_pretrained(ModelDirectory)"
   ]
  },
  {
   "cell_type": "code",
   "execution_count": null,
   "metadata": {},
   "outputs": [],
   "source": [
    "# Processing and setting up of data\n",
    "LabelsSet = []\n",
    "labeler = 0\n",
    "Data = []\n",
    "\n",
    "# Setup of labels\n",
    "for personRaw in data:\n",
    "    person = tools.getMoreSent(personRaw)\n",
    "    Data.append(person)\n",
    "    Label = np.zeros(NumberOfLabels)\n",
    "    Label[labeler] = 1\n",
    "    for sent in person:\n",
    "        LabelsSet.append(Label)\n",
    "    labeler += 1"
   ]
  },
  {
   "cell_type": "code",
   "execution_count": null,
   "metadata": {},
   "outputs": [],
   "source": [
    "LabelsSet = torch.tensor(LabelsSet)\n",
    "ProcessedSet = DataProcesser(Data, LabelsSet, tokenizer)"
   ]
  },
  {
   "cell_type": "code",
   "execution_count": null,
   "metadata": {},
   "outputs": [],
   "source": [
    "ProcessedSet.save('./processed-bert-set.bin')"
   ]
  },
  {
   "cell_type": "code",
   "execution_count": null,
   "metadata": {},
   "outputs": [],
   "source": []
  }
 ],
 "metadata": {
  "kernelspec": {
   "display_name": "Python 3",
   "language": "python",
   "name": "python3"
  },
  "language_info": {
   "codemirror_mode": {
    "name": "ipython",
    "version": 3
   },
   "file_extension": ".py",
   "mimetype": "text/x-python",
   "name": "python",
   "nbconvert_exporter": "python",
   "pygments_lexer": "ipython3",
   "version": "3.7.3"
  }
 },
 "nbformat": 4,
 "nbformat_minor": 2
}
