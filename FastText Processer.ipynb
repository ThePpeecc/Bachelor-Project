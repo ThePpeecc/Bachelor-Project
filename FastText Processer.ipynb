{
 "cells": [
  {
   "cell_type": "code",
   "execution_count": null,
   "metadata": {},
   "outputs": [],
   "source": [
    "%%javascript\n",
    "IPython.OutputArea.prototype._should_scroll = function(lines) {\n",
    "    return false;\n",
    "}"
   ]
  },
  {
   "cell_type": "code",
   "execution_count": null,
   "metadata": {},
   "outputs": [],
   "source": [
    "# Fasttext and torch\n",
    "import fasttext\n",
    "import fasttext.util\n",
    "import torch\n",
    "\n",
    "# Data Loader and Processor\n",
    "import loader\n",
    "from DataProcessor import DataInstance, DataProcesser\n",
    "\n",
    "# Import numpy\n",
    "import numpy as np\n",
    "\n",
    "# Utils\n",
    "import tools\n",
    "import pickle\n",
    "\n",
    "participants = loader.loadDataParticipants()\n",
    "\n",
    "ftDims = 300\n",
    "\n",
    "# Loads fasttext, have a fasttext embeddins in directory, like cc.da.300.bin\n",
    "ft = loader.LoadWordEmbeddings(dim = ftDims) # Can take a long time to load"
   ]
  },
  {
   "cell_type": "code",
   "execution_count": null,
   "metadata": {},
   "outputs": [],
   "source": [
    "def encodeDocs(docs):\n",
    "    nDocs = []\n",
    "    for doc in docs:\n",
    "        doc = tools.getMoreSent(doc)\n",
    "        doc = tools.rawTokenize(doc)\n",
    "        doc = tools.EncodeFT(ft, doc)\n",
    "        nDocs.append(doc)\n",
    "    return nDocs\n",
    "\n",
    "def createLabels(num = 18):\n",
    "    labels = []\n",
    "    for i in range(num):\n",
    "        l = np.zeros(num)\n",
    "        l[i] = 1\n",
    "        labels.append(l)\n",
    "    return labels\n",
    "    \n",
    "def zipDataset(labels, data):\n",
    "    dataset = []\n",
    "    for l, d in zip(labels, data):\n",
    "        for p in d:\n",
    "            inst = DataInstance([], [], [], label = torch.tensor(l))\n",
    "            inst.preds = torch.tensor(p)\n",
    "            dataset.append(inst)\n",
    "        \n",
    "    return dataset"
   ]
  },
  {
   "cell_type": "code",
   "execution_count": null,
   "metadata": {},
   "outputs": [],
   "source": [
    "data = encodeDocs(participants)\n",
    "labels = createLabels(len(participants))\n",
    "dataset = zipDataset(labels, data)"
   ]
  },
  {
   "cell_type": "code",
   "execution_count": null,
   "metadata": {},
   "outputs": [],
   "source": [
    "Data = DataProcesser.FromInstances(dataset)"
   ]
  },
  {
   "cell_type": "code",
   "execution_count": null,
   "metadata": {},
   "outputs": [],
   "source": [
    "Data.save(to = './processed-fasttext-raw.bin')"
   ]
  },
  {
   "cell_type": "code",
   "execution_count": null,
   "metadata": {},
   "outputs": [],
   "source": []
  }
 ],
 "metadata": {
  "kernelspec": {
   "display_name": "Python 3",
   "language": "python",
   "name": "python3"
  },
  "language_info": {
   "codemirror_mode": {
    "name": "ipython",
    "version": 3
   },
   "file_extension": ".py",
   "mimetype": "text/x-python",
   "name": "python",
   "nbconvert_exporter": "python",
   "pygments_lexer": "ipython3",
   "version": "3.7.3"
  }
 },
 "nbformat": 4,
 "nbformat_minor": 2
}
